{
 "metadata": {
  "name": ""
 },
 "nbformat": 3,
 "nbformat_minor": 0,
 "worksheets": [
  {
   "cells": [
    {
     "cell_type": "heading",
     "level": 1,
     "metadata": {},
     "source": [
      "Strong's search form"
     ]
    },
    {
     "cell_type": "markdown",
     "metadata": {},
     "source": [
      "This is an interactive html form on iPython notebook to retrieve Strong's New Testament Dictionary items. Please see [Strong's New Testament Dictionary](http://nbviewer.ipython.org/github/markomanninen/strongs/blob/master/Strong's%20New%20Testament%20Dictionary.ipynb?create=1) for underlying module introduction notebook.\n",
      "\n",
      "Remember to \"Run All\" from Cell menu to get form working!"
     ]
    },
    {
     "cell_type": "code",
     "collapsed": false,
     "input": [
      "from strongs import search_strongs_dictionary_html"
     ],
     "language": "python",
     "metadata": {},
     "outputs": [
      {
       "output_type": "stream",
       "stream": "stdout",
       "text": [
        "Retrieving data from local csv copy...\n"
       ]
      }
     ],
     "prompt_number": 1
    },
    {
     "cell_type": "markdown",
     "metadata": {},
     "source": [
      "<h3>Search</h3>\n",
      "\n",
      "<div class=\"search-input\"><span>Greek</span> <input type=\"text\" id=\"word\" value=\"\u0391\u03c1\u03bc\u03b1\u03b3\u03b5\u03b4\u03b4\u03c9\u03bd\" /> <button onclick=\"search_strongs_dictionary('word')\">Retrieve</button></div>\n",
      "<div class=\"search-input\"><span>Roman</span> <input type=\"text\" id=\"transliteration\" value=\"aarwn\" /> <button onclick=\"search_strongs_dictionary('transliteration')\">Retrieve</button></div>\n",
      "<div class=\"search-input\"><span>Lemma</span> <input type=\"text\" id=\"lemma\" value=\"G2424\" /> <button onclick=\"search_strongs_dictionary('lemma')\">Retrieve</button></div>\n",
      "<div class=\"search-input\"><span>Isopsephy</span> <input type=\"text\" id=\"isopsephy\" value=\"777\" /> <button onclick=\"search_strongs_dictionary('isopsephy')\">Retrieve</button></div>\n",
      "<div class=\"search-input\"><span>Translation</span> <input type=\"text\" id=\"translation\" value=\"flute\" /> <button onclick=\"search_strongs_dictionary('translation')\">Retrieve</button></div>\n",
      "\n",
      "<h3>Results</h3>\n",
      "\n",
      "<div id=\"result\">\n",
      "\n",
      "<table class=\"data\"><thead><tr><th>Lemma</th><th>Word</th><th>Transliteration</th><th>Translation</th><th>Isopsephy</th></tr></thead><tbody><tr><td>G717</td><td>\u0391\u03c1\u03bc\u03b1\u03b3\u03b5\u03b4\u03b4\u03c9\u03bd</td><td>Armageddwn</td><td>Armageddon (or Har-Meggiddon), a symbolic name</td><td>1008</td></tr></tbody></table>\n",
      "\n",
      "</div>\n",
      "\n",
      "<style>\n",
      "div.search-input span {height: 16px; width: 80px; display: block; float: left;}\n",
      "div.search-input input {height: 16px;}\n",
      "div.search-input button {margin-top: -9px;}\n",
      "</style>"
     ]
    },
    {
     "cell_type": "code",
     "collapsed": false,
     "input": [
      "%%html\n",
      "<script>\n",
      "\n",
      "    function handle_output(out_type, out) {\n",
      "        var res = null\n",
      "        if(out_type == \"stream\") {\n",
      "            res = out.data\n",
      "        } else if(out_type === \"pyout\") {\n",
      "            res = out.data[\"text/plain\"]\n",
      "        } else if(out_type == \"pyerr\") {\n",
      "            res = out.ename + \": \" + out.evalue\n",
      "        } else {\n",
      "            res = \"[out type not implemented]\"; \n",
      "        }\n",
      "        document.getElementById(\"result\").innerHTML = res\n",
      "    }\n",
      "    \n",
      "    var kernel = IPython.notebook.kernel\n",
      "    var callbacks = {'output' : handle_output}\n",
      "    \n",
      "    function search_strongs_dictionary(field) {\n",
      "        kernel.execute('query = \"' + document.getElementById(field).value + '\"')\n",
      "        kernel.execute(\"search_strongs_dictionary_html(query, '\"+field+\"')\", callbacks, {silent:false})\n",
      "    }\n",
      "\n",
      "</script>"
     ],
     "language": "python",
     "metadata": {},
     "outputs": [
      {
       "html": [
        "<script>\n",
        "\n",
        "    function handle_output(out_type, out) {\n",
        "        var res = null\n",
        "        if(out_type == \"stream\") {\n",
        "            res = out.data\n",
        "        } else if(out_type === \"pyout\") {\n",
        "            res = out.data[\"text/plain\"]\n",
        "        } else if(out_type == \"pyerr\") {\n",
        "            res = out.ename + \": \" + out.evalue\n",
        "        } else {\n",
        "            res = \"[out type not implemented]\"; \n",
        "        }\n",
        "        document.getElementById(\"result\").innerHTML = res\n",
        "    }\n",
        "    \n",
        "    var kernel = IPython.notebook.kernel\n",
        "    var callbacks = {'output' : handle_output}\n",
        "    \n",
        "    function search_strongs_dictionary(field) {\n",
        "        kernel.execute('query = \"' + document.getElementById(field).value + '\"')\n",
        "        kernel.execute(\"search_strongs_dictionary_html(query, '\"+field+\"')\", callbacks, {silent:false})\n",
        "    }\n",
        "\n",
        "</script>"
       ],
       "metadata": {},
       "output_type": "display_data",
       "text": [
        "<IPython.core.display.HTML at 0x102fc4fd0>"
       ]
      }
     ],
     "prompt_number": 2
    }
   ],
   "metadata": {}
  }
 ]
}