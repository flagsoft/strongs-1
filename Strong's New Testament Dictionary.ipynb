{
 "metadata": {
  "name": ""
 },
 "nbformat": 3,
 "nbformat_minor": 0,
 "worksheets": [
  {
   "cells": [
    {
     "cell_type": "heading",
     "level": 1,
     "metadata": {},
     "source": [
      "Strong's New Testament Dictionary"
     ]
    },
    {
     "cell_type": "markdown",
     "metadata": {},
     "source": [
      "Strong's definitions are retrieved and processed from [morphgnt](https://github.com/morphgnt/strongs-dictionary-xml) and [openscriptures](https://github.com/openscriptures/strongs/tree/master/greek). Few items are corrected and then data is saved as a CSV file. CSV file is a handy format for Python [Pandas](http://pandas.pydata.org/) data processing library. Pandas will be used as a base interface to the Strong's data.\n",
      "\n",
      "You need to have [nt-strongs.csv](https://github.com/markomanninen/strongs) file on your local machine in the same directory as strongs.py main script. If CSV file is not found, warning will be given. In this case you can still pass directory and file name as a csv argument when using load_dataframe function."
     ]
    },
    {
     "cell_type": "code",
     "collapsed": false,
     "input": [
      "import strongs\n",
      "# reload ensures, that the latest version of strongs module is loaded\n",
      "# this is useful when developing module, but not necessary on production\n",
      "#reload(strongs)\n",
      "# load strongs dictionary from other location, if initial load fails\n",
      "#strongs.load_dataframe(csv = \"strongs/nt-strongs.csv\");"
     ],
     "language": "python",
     "metadata": {},
     "outputs": [
      {
       "output_type": "stream",
       "stream": "stdout",
       "text": [
        "Retrieving data from local csv copy...\n"
       ]
      }
     ],
     "prompt_number": 1
    },
    {
     "cell_type": "heading",
     "level": 2,
     "metadata": {},
     "source": [
      "Find item by lemma"
     ]
    },
    {
     "cell_type": "markdown",
     "metadata": {},
     "source": [
      "You can get dictionary items by all five fields: lemma, word, transliteration, translation and isopsephy value. This is done by find function on strongs -module. Example given below retrieves Strong's greek definition G99 from dictionary:"
     ]
    },
    {
     "cell_type": "code",
     "collapsed": false,
     "input": [
      "lemma = \"G99\"\n",
      "# first argument is search item. second is field name\n",
      "result = strongs.find(lemma, 'lemma')\n",
      "# print result using Pandas table output\n",
      "result"
     ],
     "language": "python",
     "metadata": {},
     "outputs": [
      {
       "html": [
        "<div style=\"max-height:1000px;max-width:1500px;overflow:auto;\">\n",
        "<table border=\"1\" class=\"dataframe\">\n",
        "  <thead>\n",
        "    <tr style=\"text-align: right;\">\n",
        "      <th></th>\n",
        "      <th>lemma</th>\n",
        "      <th>word</th>\n",
        "      <th>translation</th>\n",
        "      <th>transliteration</th>\n",
        "      <th>isopsephy</th>\n",
        "    </tr>\n",
        "  </thead>\n",
        "  <tbody>\n",
        "    <tr>\n",
        "      <th>15  </th>\n",
        "      <td> G991</td>\n",
        "      <td>     \u03b2\u03bb\u03b5\u03c0\u03c9</td>\n",
        "      <td>            to look at (literally or figuratively)</td>\n",
        "      <td>     blepw</td>\n",
        "      <td> 917</td>\n",
        "    </tr>\n",
        "    <tr>\n",
        "      <th>868 </th>\n",
        "      <td> G999</td>\n",
        "      <td>   \u03b2\u03bf\u03b8\u03c5\u03bd\u03bf\u03c2</td>\n",
        "      <td>      a hole (in the ground); specially, a cistern</td>\n",
        "      <td>   boqunos</td>\n",
        "      <td> 801</td>\n",
        "    </tr>\n",
        "    <tr>\n",
        "      <th>1588</th>\n",
        "      <td> G994</td>\n",
        "      <td>      \u03b2\u03bf\u03b1\u03c9</td>\n",
        "      <td> to halloo, i.e. shout (for help or in a tumult...</td>\n",
        "      <td>      boaw</td>\n",
        "      <td> 873</td>\n",
        "    </tr>\n",
        "    <tr>\n",
        "      <th>2362</th>\n",
        "      <td> G993</td>\n",
        "      <td> \u0392\u03bf\u03b1\u03bd\u03b5\u03c1\u03b3\u03b5\u03c2</td>\n",
        "      <td> sons of commotion; Boanerges, an epithet of tw...</td>\n",
        "      <td> Boanerges</td>\n",
        "      <td> 436</td>\n",
        "    </tr>\n",
        "    <tr>\n",
        "      <th>2449</th>\n",
        "      <td> G996</td>\n",
        "      <td>   \u03b2\u03bf\u03b7\u03b8\u03b5\u03b9\u03b1</td>\n",
        "      <td> aid; specially, a rope or chain for frapping a...</td>\n",
        "      <td>   bohqeia</td>\n",
        "      <td> 105</td>\n",
        "    </tr>\n",
        "    <tr>\n",
        "      <th>3072</th>\n",
        "      <td>  G99</td>\n",
        "      <td>    \u0391\u03b4\u03c1\u03b9\u03b1\u03c2</td>\n",
        "      <td>           the Adriatic sea (including the Ionian)</td>\n",
        "      <td>    Adrias</td>\n",
        "      <td> 316</td>\n",
        "    </tr>\n",
        "    <tr>\n",
        "      <th>3183</th>\n",
        "      <td> G995</td>\n",
        "      <td>       \u03b2\u03bf\u03b7</td>\n",
        "      <td>               a halloo, i.e. call (for aid, etc.)</td>\n",
        "      <td>       boh</td>\n",
        "      <td>  80</td>\n",
        "    </tr>\n",
        "    <tr>\n",
        "      <th>4046</th>\n",
        "      <td> G990</td>\n",
        "      <td>    \u03b2\u03bb\u03b5\u03bc\u03bc\u03b1</td>\n",
        "      <td> vision (properly concrete; by implication, abs...</td>\n",
        "      <td>    blemma</td>\n",
        "      <td> 118</td>\n",
        "    </tr>\n",
        "    <tr>\n",
        "      <th>4672</th>\n",
        "      <td> G998</td>\n",
        "      <td>    \u03b2\u03bf\u03b7\u03b8\u03bf\u03c2</td>\n",
        "      <td>                                        a succorer</td>\n",
        "      <td>    bohqos</td>\n",
        "      <td> 359</td>\n",
        "    </tr>\n",
        "    <tr>\n",
        "      <th>5098</th>\n",
        "      <td> G992</td>\n",
        "      <td>   \u03b2\u03bb\u03b7\u03c4\u03b5\u03bf\u03c2</td>\n",
        "      <td>                     fit to be cast (i.e. applied)</td>\n",
        "      <td>   blhteos</td>\n",
        "      <td> 615</td>\n",
        "    </tr>\n",
        "    <tr>\n",
        "      <th>5508</th>\n",
        "      <td> G997</td>\n",
        "      <td>    \u03b2\u03bf\u03b7\u03b8\u03b5\u03c9</td>\n",
        "      <td>                                 to aid or relieve</td>\n",
        "      <td>    bohqew</td>\n",
        "      <td> 894</td>\n",
        "    </tr>\n",
        "  </tbody>\n",
        "</table>\n",
        "<p>11 rows \u00d7 5 columns</p>\n",
        "</div>"
       ],
       "metadata": {},
       "output_type": "pyout",
       "prompt_number": 2,
       "text": [
        "     lemma       word                                        translation  \\\n",
        "15    G991      \u03b2\u03bb\u03b5\u03c0\u03c9             to look at (literally or figuratively)   \n",
        "868   G999    \u03b2\u03bf\u03b8\u03c5\u03bd\u03bf\u03c2       a hole (in the ground); specially, a cistern   \n",
        "1588  G994       \u03b2\u03bf\u03b1\u03c9  to halloo, i.e. shout (for help or in a tumult...   \n",
        "2362  G993  \u0392\u03bf\u03b1\u03bd\u03b5\u03c1\u03b3\u03b5\u03c2  sons of commotion; Boanerges, an epithet of tw...   \n",
        "2449  G996    \u03b2\u03bf\u03b7\u03b8\u03b5\u03b9\u03b1  aid; specially, a rope or chain for frapping a...   \n",
        "3072   G99     \u0391\u03b4\u03c1\u03b9\u03b1\u03c2            the Adriatic sea (including the Ionian)   \n",
        "3183  G995        \u03b2\u03bf\u03b7                a halloo, i.e. call (for aid, etc.)   \n",
        "4046  G990     \u03b2\u03bb\u03b5\u03bc\u03bc\u03b1  vision (properly concrete; by implication, abs...   \n",
        "4672  G998     \u03b2\u03bf\u03b7\u03b8\u03bf\u03c2                                         a succorer   \n",
        "5098  G992    \u03b2\u03bb\u03b7\u03c4\u03b5\u03bf\u03c2                      fit to be cast (i.e. applied)   \n",
        "5508  G997     \u03b2\u03bf\u03b7\u03b8\u03b5\u03c9                                  to aid or relieve   \n",
        "\n",
        "     transliteration  isopsephy  \n",
        "15             blepw        917  \n",
        "868          boqunos        801  \n",
        "1588            boaw        873  \n",
        "2362       Boanerges        436  \n",
        "2449         bohqeia        105  \n",
        "3072          Adrias        316  \n",
        "3183             boh         80  \n",
        "4046          blemma        118  \n",
        "4672          bohqos        359  \n",
        "5098         blhteos        615  \n",
        "5508          bohqew        894  \n",
        "\n",
        "[11 rows x 5 columns]"
       ]
      }
     ],
     "prompt_number": 2
    },
    {
     "cell_type": "markdown",
     "metadata": {},
     "source": [
      "As you can see, result contains all items having a substring \"G99\". You can get more limited result by passing search query using [python regular expression](https://docs.python.org/2/library/re.html) engine. \n",
      "\n",
      "\\$ at the end means searched string must end with given query. Because all lemmas starts with G in Greek Strong's definitions, we don't need to handle beginning part of the search string in this case. But you would do that kind of limit with expression: '^'+lemma+'\\$'. Let's get dictionary item with exact lemma:"
     ]
    },
    {
     "cell_type": "code",
     "collapsed": false,
     "input": [
      "strongs.find(lemma+'$', 'lemma')"
     ],
     "language": "python",
     "metadata": {},
     "outputs": [
      {
       "html": [
        "<div style=\"max-height:1000px;max-width:1500px;overflow:auto;\">\n",
        "<table border=\"1\" class=\"dataframe\">\n",
        "  <thead>\n",
        "    <tr style=\"text-align: right;\">\n",
        "      <th></th>\n",
        "      <th>lemma</th>\n",
        "      <th>word</th>\n",
        "      <th>translation</th>\n",
        "      <th>transliteration</th>\n",
        "      <th>isopsephy</th>\n",
        "    </tr>\n",
        "  </thead>\n",
        "  <tbody>\n",
        "    <tr>\n",
        "      <th>3072</th>\n",
        "      <td> G99</td>\n",
        "      <td> \u0391\u03b4\u03c1\u03b9\u03b1\u03c2</td>\n",
        "      <td> the Adriatic sea (including the Ionian)</td>\n",
        "      <td> Adrias</td>\n",
        "      <td> 316</td>\n",
        "    </tr>\n",
        "  </tbody>\n",
        "</table>\n",
        "<p>1 rows \u00d7 5 columns</p>\n",
        "</div>"
       ],
       "metadata": {},
       "output_type": "pyout",
       "prompt_number": 3,
       "text": [
        "     lemma    word                              translation transliteration  \\\n",
        "3072   G99  \u0391\u03b4\u03c1\u03b9\u03b1\u03c2  the Adriatic sea (including the Ionian)          Adrias   \n",
        "\n",
        "      isopsephy  \n",
        "3072        316  \n",
        "\n",
        "[1 rows x 5 columns]"
       ]
      }
     ],
     "prompt_number": 3
    },
    {
     "cell_type": "markdown",
     "metadata": {},
     "source": [
      "Alternatively you can pass compiled regex object to get item(s) even more efficiently. This is useful especially, if you do a lot of search queries with regular expression style."
     ]
    },
    {
     "cell_type": "code",
     "collapsed": false,
     "input": [
      "import re\n",
      "regex = re.compile('^'+lemma+'$')\n",
      "result = strongs.find(regex, 'lemma')\n",
      "result"
     ],
     "language": "python",
     "metadata": {},
     "outputs": [
      {
       "html": [
        "<div style=\"max-height:1000px;max-width:1500px;overflow:auto;\">\n",
        "<table border=\"1\" class=\"dataframe\">\n",
        "  <thead>\n",
        "    <tr style=\"text-align: right;\">\n",
        "      <th></th>\n",
        "      <th>lemma</th>\n",
        "      <th>word</th>\n",
        "      <th>translation</th>\n",
        "      <th>transliteration</th>\n",
        "      <th>isopsephy</th>\n",
        "    </tr>\n",
        "  </thead>\n",
        "  <tbody>\n",
        "    <tr>\n",
        "      <th>3072</th>\n",
        "      <td> G99</td>\n",
        "      <td> \u0391\u03b4\u03c1\u03b9\u03b1\u03c2</td>\n",
        "      <td> the Adriatic sea (including the Ionian)</td>\n",
        "      <td> Adrias</td>\n",
        "      <td> 316</td>\n",
        "    </tr>\n",
        "  </tbody>\n",
        "</table>\n",
        "<p>1 rows \u00d7 5 columns</p>\n",
        "</div>"
       ],
       "metadata": {},
       "output_type": "pyout",
       "prompt_number": 4,
       "text": [
        "     lemma    word                              translation transliteration  \\\n",
        "3072   G99  \u0391\u03b4\u03c1\u03b9\u03b1\u03c2  the Adriatic sea (including the Ionian)          Adrias   \n",
        "\n",
        "      isopsephy  \n",
        "3072        316  \n",
        "\n",
        "[1 rows x 5 columns]"
       ]
      }
     ],
     "prompt_number": 4
    },
    {
     "cell_type": "markdown",
     "metadata": {},
     "source": [
      "Finally, retrieving certain field content is done either by joining array of result item(s), which works well now, because there is only one search result:"
     ]
    },
    {
     "cell_type": "code",
     "collapsed": false,
     "input": [
      "print lemma + \": \" + ''.join(result.word)"
     ],
     "language": "python",
     "metadata": {},
     "outputs": [
      {
       "output_type": "stream",
       "stream": "stdout",
       "text": [
        "G99: \u0391\u03b4\u03c1\u03b9\u03b1\u03c2\n"
       ]
      }
     ],
     "prompt_number": 5
    },
    {
     "cell_type": "markdown",
     "metadata": {},
     "source": [
      "or by retrieving row by index:"
     ]
    },
    {
     "cell_type": "code",
     "collapsed": false,
     "input": [
      "print lemma + \": \" + result.translation[3072]"
     ],
     "language": "python",
     "metadata": {},
     "outputs": [
      {
       "output_type": "stream",
       "stream": "stdout",
       "text": [
        "G99: the Adriatic sea (including the Ionian)\n"
       ]
      }
     ],
     "prompt_number": 6
    },
    {
     "cell_type": "heading",
     "level": 2,
     "metadata": {},
     "source": [
      "Search example queries with other fields"
     ]
    },
    {
     "cell_type": "heading",
     "level": 3,
     "metadata": {},
     "source": [
      "Word"
     ]
    },
    {
     "cell_type": "markdown",
     "metadata": {},
     "source": [
      "Words stored on the database are simplified greek letters without accents/diacritics. That's why you may need to pre process greek words before making a search by word. To remove unwanted characters and remove accents you can use preprocess_greek function, which is included from [isopsephy](https://github.com/markomanninen/isopsephy) module to the strongs module. Here we are using \"unaccented\" word on search:"
     ]
    },
    {
     "cell_type": "code",
     "collapsed": false,
     "input": [
      "strongs.find(\"\u03c8\u03c5\u03c7\u03c1\u03bf\u03c2\", 'word')"
     ],
     "language": "python",
     "metadata": {},
     "outputs": [
      {
       "html": [
        "<div style=\"max-height:1000px;max-width:1500px;overflow:auto;\">\n",
        "<table border=\"1\" class=\"dataframe\">\n",
        "  <thead>\n",
        "    <tr style=\"text-align: right;\">\n",
        "      <th></th>\n",
        "      <th>lemma</th>\n",
        "      <th>word</th>\n",
        "      <th>translation</th>\n",
        "      <th>transliteration</th>\n",
        "      <th>isopsephy</th>\n",
        "    </tr>\n",
        "  </thead>\n",
        "  <tbody>\n",
        "    <tr>\n",
        "      <th>5492</th>\n",
        "      <td> G5593</td>\n",
        "      <td> \u03c8\u03c5\u03c7\u03c1\u03bf\u03c2</td>\n",
        "      <td> chilly (literally or figuratively)</td>\n",
        "      <td> yuxros</td>\n",
        "      <td> 2070</td>\n",
        "    </tr>\n",
        "  </tbody>\n",
        "</table>\n",
        "<p>1 rows \u00d7 5 columns</p>\n",
        "</div>"
       ],
       "metadata": {},
       "output_type": "pyout",
       "prompt_number": 7,
       "text": [
        "      lemma    word                         translation transliteration  \\\n",
        "5492  G5593  \u03c8\u03c5\u03c7\u03c1\u03bf\u03c2  chilly (literally or figuratively)          yuxros   \n",
        "\n",
        "      isopsephy  \n",
        "5492       2070  \n",
        "\n",
        "[1 rows x 5 columns]"
       ]
      }
     ],
     "prompt_number": 7
    },
    {
     "cell_type": "markdown",
     "metadata": {},
     "source": [
      "And same with pre processing: "
     ]
    },
    {
     "cell_type": "code",
     "collapsed": false,
     "input": [
      "word = strongs.preprocess_greek(\"\u03c8\u03c5\u03c7\u03c1\u03cc\u03c2\")\n",
      "strongs.find(word, 'word')"
     ],
     "language": "python",
     "metadata": {},
     "outputs": [
      {
       "html": [
        "<div style=\"max-height:1000px;max-width:1500px;overflow:auto;\">\n",
        "<table border=\"1\" class=\"dataframe\">\n",
        "  <thead>\n",
        "    <tr style=\"text-align: right;\">\n",
        "      <th></th>\n",
        "      <th>lemma</th>\n",
        "      <th>word</th>\n",
        "      <th>translation</th>\n",
        "      <th>transliteration</th>\n",
        "      <th>isopsephy</th>\n",
        "    </tr>\n",
        "  </thead>\n",
        "  <tbody>\n",
        "    <tr>\n",
        "      <th>5492</th>\n",
        "      <td> G5593</td>\n",
        "      <td> \u03c8\u03c5\u03c7\u03c1\u03bf\u03c2</td>\n",
        "      <td> chilly (literally or figuratively)</td>\n",
        "      <td> yuxros</td>\n",
        "      <td> 2070</td>\n",
        "    </tr>\n",
        "  </tbody>\n",
        "</table>\n",
        "<p>1 rows \u00d7 5 columns</p>\n",
        "</div>"
       ],
       "metadata": {},
       "output_type": "pyout",
       "prompt_number": 8,
       "text": [
        "      lemma    word                         translation transliteration  \\\n",
        "5492  G5593  \u03c8\u03c5\u03c7\u03c1\u03bf\u03c2  chilly (literally or figuratively)          yuxros   \n",
        "\n",
        "      isopsephy  \n",
        "5492       2070  \n",
        "\n",
        "[1 rows x 5 columns]"
       ]
      }
     ],
     "prompt_number": 8
    },
    {
     "cell_type": "heading",
     "level": 3,
     "metadata": {},
     "source": [
      "Translation"
     ]
    },
    {
     "cell_type": "code",
     "collapsed": false,
     "input": [
      "strongs.find(\"flute\", 'translation')"
     ],
     "language": "python",
     "metadata": {},
     "outputs": [
      {
       "html": [
        "<div style=\"max-height:1000px;max-width:1500px;overflow:auto;\">\n",
        "<table border=\"1\" class=\"dataframe\">\n",
        "  <thead>\n",
        "    <tr style=\"text-align: right;\">\n",
        "      <th></th>\n",
        "      <th>lemma</th>\n",
        "      <th>word</th>\n",
        "      <th>translation</th>\n",
        "      <th>transliteration</th>\n",
        "      <th>isopsephy</th>\n",
        "    </tr>\n",
        "  </thead>\n",
        "  <tbody>\n",
        "    <tr>\n",
        "      <th>1557</th>\n",
        "      <td> G832</td>\n",
        "      <td>   \u03b1\u03c5\u03bb\u03b5\u03c9</td>\n",
        "      <td>  to play the flute</td>\n",
        "      <td>   aulew</td>\n",
        "      <td> 1236</td>\n",
        "    </tr>\n",
        "    <tr>\n",
        "      <th>4620</th>\n",
        "      <td> G836</td>\n",
        "      <td>   \u03b1\u03c5\u03bb\u03bf\u03c2</td>\n",
        "      <td> a flute (as blown)</td>\n",
        "      <td>   aulos</td>\n",
        "      <td>  701</td>\n",
        "    </tr>\n",
        "    <tr>\n",
        "      <th>5512</th>\n",
        "      <td> G834</td>\n",
        "      <td> \u03b1\u03c5\u03bb\u03b7\u03c4\u03b7\u03c2</td>\n",
        "      <td>     a flute-player</td>\n",
        "      <td> aulhths</td>\n",
        "      <td>  947</td>\n",
        "    </tr>\n",
        "  </tbody>\n",
        "</table>\n",
        "<p>3 rows \u00d7 5 columns</p>\n",
        "</div>"
       ],
       "metadata": {},
       "output_type": "pyout",
       "prompt_number": 9,
       "text": [
        "     lemma     word         translation transliteration  isopsephy\n",
        "1557  G832    \u03b1\u03c5\u03bb\u03b5\u03c9   to play the flute           aulew       1236\n",
        "4620  G836    \u03b1\u03c5\u03bb\u03bf\u03c2  a flute (as blown)           aulos        701\n",
        "5512  G834  \u03b1\u03c5\u03bb\u03b7\u03c4\u03b7\u03c2      a flute-player         aulhths        947\n",
        "\n",
        "[3 rows x 5 columns]"
       ]
      }
     ],
     "prompt_number": 9
    },
    {
     "cell_type": "heading",
     "level": 3,
     "metadata": {},
     "source": [
      "Isopsephy"
     ]
    },
    {
     "cell_type": "markdown",
     "metadata": {},
     "source": [
      "Main reason for making Strong's dictionary to iPython Notebook application is the ongoing isopsephy research. You can read more of the project from [GitHub Isopsephy Project](https://github.com/markomanninen/isopsephy) repository.\n",
      "\n",
      "Main idea of the isopsephy is that all 27 letters of Greek alphabet has a numeric value (1-9, 10-90, 100-900). So all words can be calculated to have a sum of the alphabet values. On next example we find out all word on Strong's dictionary having the numerical value of 1008:"
     ]
    },
    {
     "cell_type": "code",
     "collapsed": false,
     "input": [
      "strongs.find(321, 'isopsephy')"
     ],
     "language": "python",
     "metadata": {},
     "outputs": [
      {
       "html": [
        "<div style=\"max-height:1000px;max-width:1500px;overflow:auto;\">\n",
        "<table border=\"1\" class=\"dataframe\">\n",
        "  <thead>\n",
        "    <tr style=\"text-align: right;\">\n",
        "      <th></th>\n",
        "      <th>lemma</th>\n",
        "      <th>word</th>\n",
        "      <th>translation</th>\n",
        "      <th>transliteration</th>\n",
        "      <th>isopsephy</th>\n",
        "    </tr>\n",
        "  </thead>\n",
        "  <tbody>\n",
        "    <tr>\n",
        "      <th>1121</th>\n",
        "      <td> G2570</td>\n",
        "      <td> \u03ba\u03b1\u03bb\u03bf\u03c2</td>\n",
        "      <td> beautiful, beauteous, fair</td>\n",
        "      <td> kalos</td>\n",
        "      <td> 321</td>\n",
        "    </tr>\n",
        "    <tr>\n",
        "      <th>1603</th>\n",
        "      <td> G3485</td>\n",
        "      <td>  \u03bd\u03b1\u03bf\u03c2</td>\n",
        "      <td>    a fane, shrine, temple </td>\n",
        "      <td>  naos</td>\n",
        "      <td> 321</td>\n",
        "    </tr>\n",
        "  </tbody>\n",
        "</table>\n",
        "<p>2 rows \u00d7 5 columns</p>\n",
        "</div>"
       ],
       "metadata": {},
       "output_type": "pyout",
       "prompt_number": 10,
       "text": [
        "      lemma   word                 translation transliteration  isopsephy\n",
        "1121  G2570  \u03ba\u03b1\u03bb\u03bf\u03c2  beautiful, beauteous, fair           kalos        321\n",
        "1603  G3485   \u03bd\u03b1\u03bf\u03c2     a fane, shrine, temple             naos        321\n",
        "\n",
        "[2 rows x 5 columns]"
       ]
      }
     ],
     "prompt_number": 10
    },
    {
     "cell_type": "heading",
     "level": 2,
     "metadata": {},
     "source": [
      "Search form"
     ]
    },
    {
     "cell_type": "markdown",
     "metadata": {},
     "source": [
      "Strongs module also provides search results in html format that can be used to interact with strongs database via html form. On next three steps we:\n",
      "\n",
      "1. Import search_strongs_dictionary_html function from strongs module\n",
      "2. Create html form with input fields and buttons \n",
      "3. Attach javascript to handle intercation between notebook and Python\n",
      "\n",
      "If you download notebook to your local machine or use wakari notebook provider, you can see form in action. Otherwise you will just see static html and example result."
     ]
    },
    {
     "cell_type": "code",
     "collapsed": false,
     "input": [
      "from strongs import search_strongs_dictionary_html"
     ],
     "language": "python",
     "metadata": {},
     "outputs": [],
     "prompt_number": 11
    },
    {
     "cell_type": "code",
     "collapsed": false,
     "input": [
      "%%HTML\n",
      "<h3>Search</h3>\n",
      "\n",
      "<div class=\"search-input\"><span>Greek</span> <input type=\"text\" id=\"word\" value=\"\u0391\u03c1\u03bc\u03b1\u03b3\u03b5\u03b4\u03b4\u03c9\u03bd\" /> <button onclick=\"search_strongs_dictionary('word')\">Retrieve</button></div>\n",
      "<div class=\"search-input\"><span>Roman</span> <input type=\"text\" id=\"transliteration\" value=\"aarwn\" /> <button onclick=\"search_strongs_dictionary('transliteration')\">Retrieve</button></div>\n",
      "<div class=\"search-input\"><span>Lemma</span> <input type=\"text\" id=\"lemma\" value=\"G2424\" /> <button onclick=\"search_strongs_dictionary('lemma')\">Retrieve</button></div>\n",
      "<div class=\"search-input\"><span>Isopsephy</span> <input type=\"text\" id=\"isopsephy\" value=\"777\" /> <button onclick=\"search_strongs_dictionary('isopsephy')\">Retrieve</button></div>\n",
      "<div class=\"search-input\"><span>Translation</span> <input type=\"text\" id=\"translation\" value=\"flute\" /> <button onclick=\"search_strongs_dictionary('translation')\">Retrieve</button></div>\n",
      "\n",
      "<h3>Results</h3>\n",
      "\n",
      "<div id=\"result\">\n",
      "\n",
      "<table class=\"data\"><thead><tr><th>Lemma</th><th>Word</th><th>Transliteration</th><th>Translation</th><th>Isopsephy</th></tr></thead><tbody><tr><td>G717</td><td>\u0391\u03c1\u03bc\u03b1\u03b3\u03b5\u03b4\u03b4\u03c9\u03bd</td><td>Armageddwn</td><td>Armageddon (or Har-Meggiddon), a symbolic name</td><td>1008</td></tr></tbody></table>\n",
      "\n",
      "</div>\n",
      "\n",
      "<style>\n",
      "div.search-input span {height: 16px; width: 80px; display: block; float: left;}\n",
      "div.search-input input {height: 16px;}\n",
      "div.search-input button {margin-top: -9px;}\n",
      "</style>"
     ],
     "language": "python",
     "metadata": {},
     "outputs": [
      {
       "html": [
        "<h3>Search</h3>\n",
        "\n",
        "<div class=\"search-input\"><span>Greek</span> <input type=\"text\" id=\"word\" value=\"\u0391\u03c1\u03bc\u03b1\u03b3\u03b5\u03b4\u03b4\u03c9\u03bd\" /> <button onclick=\"search_strongs_dictionary('word')\">Retrieve</button></div>\n",
        "<div class=\"search-input\"><span>Roman</span> <input type=\"text\" id=\"transliteration\" value=\"aarwn\" /> <button onclick=\"search_strongs_dictionary('transliteration')\">Retrieve</button></div>\n",
        "<div class=\"search-input\"><span>Lemma</span> <input type=\"text\" id=\"lemma\" value=\"G2424\" /> <button onclick=\"search_strongs_dictionary('lemma')\">Retrieve</button></div>\n",
        "<div class=\"search-input\"><span>Isopsephy</span> <input type=\"text\" id=\"isopsephy\" value=\"777\" /> <button onclick=\"search_strongs_dictionary('isopsephy')\">Retrieve</button></div>\n",
        "<div class=\"search-input\"><span>Translation</span> <input type=\"text\" id=\"translation\" value=\"flute\" /> <button onclick=\"search_strongs_dictionary('translation')\">Retrieve</button></div>\n",
        "\n",
        "<h3>Results</h3>\n",
        "\n",
        "<div id=\"result\">\n",
        "\n",
        "<table class=\"data\"><thead><tr><th>Lemma</th><th>Word</th><th>Transliteration</th><th>Translation</th><th>Isopsephy</th></tr></thead><tbody><tr><td>G717</td><td>\u0391\u03c1\u03bc\u03b1\u03b3\u03b5\u03b4\u03b4\u03c9\u03bd</td><td>Armageddwn</td><td>Armageddon (or Har-Meggiddon), a symbolic name</td><td>1008</td></tr></tbody></table>\n",
        "\n",
        "</div>\n",
        "\n",
        "<style>\n",
        "div.search-input span {height: 16px; width: 80px; display: block; float: left;}\n",
        "div.search-input input {height: 16px;}\n",
        "div.search-input button {margin-top: -9px;}\n",
        "</style>"
       ],
       "metadata": {},
       "output_type": "display_data",
       "text": [
        "<IPython.core.display.HTML at 0x106133dd0>"
       ]
      }
     ],
     "prompt_number": 12
    },
    {
     "cell_type": "code",
     "collapsed": false,
     "input": [
      "%%html\n",
      "<script>\n",
      "\n",
      "    function handle_output(out_type, out) {\n",
      "        var res = null\n",
      "        if(out_type == \"stream\") {\n",
      "            res = out.data\n",
      "        } else if(out_type === \"pyout\") {\n",
      "            res = out.data[\"text/plain\"]\n",
      "        } else if(out_type == \"pyerr\") {\n",
      "            res = out.ename + \": \" + out.evalue\n",
      "        } else {\n",
      "            res = \"[out type not implemented]\"; \n",
      "        }\n",
      "        document.getElementById(\"result\").innerHTML = res\n",
      "    }\n",
      "    \n",
      "    var kernel = IPython.notebook.kernel\n",
      "    var callbacks = {'output' : handle_output}\n",
      "    \n",
      "    function search_strongs_dictionary(field) {\n",
      "        kernel.execute('query = \"' + document.getElementById(field).value + '\"')\n",
      "        kernel.execute(\"search_strongs_dictionary_html(query, '\"+field+\"')\", callbacks, {silent:false})\n",
      "    }\n",
      "\n",
      "</script>"
     ],
     "language": "python",
     "metadata": {},
     "outputs": [
      {
       "html": [
        "<script>\n",
        "\n",
        "    function handle_output(out_type, out) {\n",
        "        var res = null\n",
        "        if(out_type == \"stream\") {\n",
        "            res = out.data\n",
        "        } else if(out_type === \"pyout\") {\n",
        "            res = out.data[\"text/plain\"]\n",
        "        } else if(out_type == \"pyerr\") {\n",
        "            res = out.ename + \": \" + out.evalue\n",
        "        } else {\n",
        "            res = \"[out type not implemented]\"; \n",
        "        }\n",
        "        document.getElementById(\"result\").innerHTML = res\n",
        "    }\n",
        "    \n",
        "    var kernel = IPython.notebook.kernel\n",
        "    var callbacks = {'output' : handle_output}\n",
        "    \n",
        "    function search_strongs_dictionary(field) {\n",
        "        kernel.execute('query = \"' + document.getElementById(field).value + '\"')\n",
        "        kernel.execute(\"search_strongs_dictionary_html(query, '\"+field+\"')\", callbacks, {silent:false})\n",
        "    }\n",
        "\n",
        "</script>"
       ],
       "metadata": {},
       "output_type": "display_data",
       "text": [
        "<IPython.core.display.HTML at 0x10610dad0>"
       ]
      }
     ],
     "prompt_number": 13
    },
    {
     "cell_type": "heading",
     "level": 2,
     "metadata": {},
     "source": [
      "Related notebooks"
     ]
    },
    {
     "cell_type": "markdown",
     "metadata": {},
     "source": [
      "There are a few other related notebooks to dive more deep to the subject of isopsephy:\n",
      "\n",
      "1. [Strong's New Testament Dictionary](http://nbviewer.ipython.org/github/markomanninen/strongs/blob/master/Strong's%20New%20Testament%20Dictionary.ipynb?create=1)\n",
      "2. [Strong's search form](http://nbviewer.ipython.org/github/markomanninen/strongs/blob/master/Strong's%20search%20form.ipynb?create=1)\n",
      "3. [Textus Receptus Isopsephy Investigations]()\n",
      "4. [Textus Receptus test cases]()\n",
      "5. [Introduction to isopsephy]()\n",
      "6. [Isopsephy test cases](http://nbviewer.ipython.org/github/markomanninen/isopsephy/blob/master/Isopsephy%20test%20cases.ipynb?create=1)"
     ]
    }
   ],
   "metadata": {}
  }
 ]
}